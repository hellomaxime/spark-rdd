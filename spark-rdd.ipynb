{
 "cells": [
  {
   "cell_type": "code",
   "execution_count": 2,
   "id": "e82dfbde",
   "metadata": {
    "scrolled": true
   },
   "outputs": [
    {
     "name": "stdout",
     "output_type": "stream",
     "text": [
      "running\n"
     ]
    }
   ],
   "source": [
    "import findspark\n",
    "from pyspark.sql import SparkSession\n",
    "from pyspark import SparkConf\n",
    "\n",
    "from pyspark.sql import *\n",
    "from pyspark.sql.functions import *\n",
    "from pyspark.sql.types import *\n",
    "\n",
    "findspark.init()\n",
    "\n",
    "def demarrer_spark():\n",
    "    local = \"local[*]\"\n",
    "    appName = \"dataframeJson\"\n",
    "    config = SparkConf().setAppName(appName).setMaster(local).\\\n",
    "    set(\"spark.executor.memory\", \"1G\").\\\n",
    "    set(\"spark.driver.memory\", \"1G\").\\\n",
    "    set(\"spark.sql.catalogImplementation\", \"in-memory\")\n",
    "    \n",
    "    spark = SparkSession.builder.config(conf = config).getOrCreate()\n",
    "    sc = spark.sparkContext\n",
    "    sc.setLogLevel(\"ERROR\")\n",
    "    \n",
    "    spark.conf.set(\"spark.sql.autoBroadcastJoinThreshold\", \"-1\")\n",
    "    \n",
    "    spark.conf.set(\"spark.sql.shuffle.partitions\", \"4\")\n",
    "    return spark\n",
    "\n",
    "spark = demarrer_spark()\n",
    "print(\"running\")"
   ]
  },
  {
   "cell_type": "markdown",
   "id": "44b0e2ab",
   "metadata": {},
   "source": [
    "### Simplified TF*IDF"
   ]
  },
  {
   "cell_type": "code",
   "execution_count": 5,
   "id": "c19398d5",
   "metadata": {},
   "outputs": [
    {
     "data": {
      "text/plain": [
       "[('d1', ['one', 'fish', 'two', 'fish']),\n",
       " ('d2', ['red', 'fish', 'blue']),\n",
       " ('d3', ['one', 'red', 'bird'])]"
      ]
     },
     "execution_count": 5,
     "metadata": {},
     "output_type": "execute_result"
    }
   ],
   "source": [
    "dataset = ['d1,one fish two fish', 'd2,red fish blue', 'd3,one red bird']\n",
    "data = spark.sparkContext.parallelize(dataset)\n",
    "\n",
    "lines = data.map(lambda x : x.split(\",\")).map(lambda x : (x[0], x[1].split(\" \")))\n",
    "\n",
    "lines.take(10)"
   ]
  },
  {
   "cell_type": "code",
   "execution_count": 7,
   "id": "11e1f139",
   "metadata": {
    "scrolled": true
   },
   "outputs": [
    {
     "data": {
      "text/plain": [
       "3"
      ]
     },
     "execution_count": 7,
     "metadata": {},
     "output_type": "execute_result"
    }
   ],
   "source": [
    "count = data.count()\n",
    "count"
   ]
  },
  {
   "cell_type": "code",
   "execution_count": 8,
   "id": "7f957c0d",
   "metadata": {},
   "outputs": [],
   "source": [
    "def combine(list, word):\n",
    "    return [(word, x) for x in list]"
   ]
  },
  {
   "cell_type": "code",
   "execution_count": 9,
   "id": "6ee4a2ff",
   "metadata": {},
   "outputs": [
    {
     "data": {
      "text/plain": [
       "[('d1', 'd3'), ('d1', 'one'), ('d1', 'red'), ('d1', 'bird')]"
      ]
     },
     "execution_count": 9,
     "metadata": {},
     "output_type": "execute_result"
    }
   ],
   "source": [
    "list = ['d3', 'one', 'red', 'bird']\n",
    "word = 'd1'\n",
    "combine(list, word)"
   ]
  },
  {
   "cell_type": "markdown",
   "id": "1232b020",
   "metadata": {},
   "source": [
    "Starting from `lines` produce an RDD of all pairs"
   ]
  },
  {
   "cell_type": "code",
   "execution_count": 12,
   "id": "b96ee498",
   "metadata": {},
   "outputs": [
    {
     "data": {
      "text/plain": [
       "[('d1', 'one'),\n",
       " ('d1', 'fish'),\n",
       " ('d1', 'two'),\n",
       " ('d1', 'fish'),\n",
       " ('d2', 'red'),\n",
       " ('d2', 'fish'),\n",
       " ('d2', 'blue'),\n",
       " ('d3', 'one'),\n",
       " ('d3', 'red'),\n",
       " ('d3', 'bird')]"
      ]
     },
     "execution_count": 12,
     "metadata": {},
     "output_type": "execute_result"
    }
   ],
   "source": [
    "word_doc = lines.flatMapValues(lambda x : x)\n",
    "word_doc.take(10)"
   ]
  },
  {
   "cell_type": "markdown",
   "id": "0731bd34",
   "metadata": {},
   "source": [
    "For each pair (document, word), count its frequency"
   ]
  },
  {
   "cell_type": "code",
   "execution_count": 16,
   "id": "537ce33d",
   "metadata": {},
   "outputs": [
    {
     "data": {
      "text/plain": [
       "[(('d1', 'one'), 1),\n",
       " (('d1', 'two'), 1),\n",
       " (('d2', 'fish'), 1),\n",
       " (('d3', 'one'), 1),\n",
       " (('d2', 'red'), 1),\n",
       " (('d2', 'blue'), 1),\n",
       " (('d3', 'red'), 1),\n",
       " (('d1', 'fish'), 2),\n",
       " (('d3', 'bird'), 1)]"
      ]
     },
     "execution_count": 16,
     "metadata": {},
     "output_type": "execute_result"
    }
   ],
   "source": [
    "freq_word = word_doc.map(lambda x : (x, 1)).reduceByKey(lambda a, b : a+b)\n",
    "\n",
    "freq_word.take(10)"
   ]
  },
  {
   "cell_type": "markdown",
   "id": "4fd4753b",
   "metadata": {},
   "source": [
    "For each word, produce a pair (d, freq)"
   ]
  },
  {
   "cell_type": "code",
   "execution_count": 17,
   "id": "3b10872c",
   "metadata": {},
   "outputs": [
    {
     "data": {
      "text/plain": [
       "[('one', ('d1', 1)),\n",
       " ('two', ('d1', 1)),\n",
       " ('fish', ('d2', 1)),\n",
       " ('one', ('d3', 1)),\n",
       " ('red', ('d2', 1)),\n",
       " ('blue', ('d2', 1)),\n",
       " ('red', ('d3', 1)),\n",
       " ('fish', ('d1', 2)),\n",
       " ('bird', ('d3', 1))]"
      ]
     },
     "execution_count": 17,
     "metadata": {},
     "output_type": "execute_result"
    }
   ],
   "source": [
    "freq_word_bis = freq_word.map(lambda x : (x[0][1], (x[0][0], x[1])))\n",
    "freq_word_bis.take(10)"
   ]
  },
  {
   "cell_type": "markdown",
   "id": "025b2858",
   "metadata": {},
   "source": [
    "For each word, compute its document frequency, i.e # of documents in which it appears"
   ]
  },
  {
   "cell_type": "code",
   "execution_count": 25,
   "id": "207d84e8",
   "metadata": {},
   "outputs": [
    {
     "data": {
      "text/plain": [
       "[('two', 3.0),\n",
       " ('bird', 3.0),\n",
       " ('blue', 3.0),\n",
       " ('fish', 1.5),\n",
       " ('red', 1.5),\n",
       " ('one', 1.5)]"
      ]
     },
     "execution_count": 25,
     "metadata": {},
     "output_type": "execute_result"
    }
   ],
   "source": [
    "doc_freq = freq_word_bis.map(lambda x : (x[0], 1)).reduceByKey(lambda a,b : a+b).map(lambda x : (x[0], 3.0/x[1]))\n",
    "doc_freq.take(10)"
   ]
  },
  {
   "cell_type": "markdown",
   "id": "9a9582d6",
   "metadata": {},
   "source": [
    "For each word, compute its simplified score"
   ]
  },
  {
   "cell_type": "code",
   "execution_count": 28,
   "id": "8d058297",
   "metadata": {},
   "outputs": [
    {
     "name": "stderr",
     "output_type": "stream",
     "text": [
      "\r",
      "[Stage 153:====================================>                  (16 + 8) / 24]\r",
      "\r",
      "                                                                                \r"
     ]
    },
    {
     "data": {
      "text/plain": [
       "[('two', 'd1', 3.0),\n",
       " ('bird', 'd3', 3.0),\n",
       " ('blue', 'd2', 3.0),\n",
       " ('fish', 'd1', 1.5),\n",
       " ('fish', 'd1', 1.5),\n",
       " ('fish', 'd2', 1.5),\n",
       " ('red', 'd2', 1.5),\n",
       " ('red', 'd3', 1.5),\n",
       " ('one', 'd1', 1.5),\n",
       " ('one', 'd3', 1.5)]"
      ]
     },
     "execution_count": 28,
     "metadata": {},
     "output_type": "execute_result"
    }
   ],
   "source": [
    "final = word_doc.map(lambda x : (x[1], x[0])).join(doc_freq).map(lambda x : (x[0], x[1][0], x[1][1]))\n",
    "final.take(10)"
   ]
  },
  {
   "cell_type": "markdown",
   "id": "0494a2ec",
   "metadata": {},
   "source": [
    "### Text Analytics\n",
    "\n",
    "The goal is to compute the SPMI (simplified pointwise mutual information) metric for words in a corpus."
   ]
  },
  {
   "cell_type": "code",
   "execution_count": 29,
   "id": "cbb35c6f",
   "metadata": {},
   "outputs": [],
   "source": [
    "def removespecialchars(word):\n",
    "    charstoremove = ['[',']','*','#','.','_',':','?','!',',',';','“','”','\\n']\n",
    "    for ch in word:\n",
    "        if ch in charstoremove:\n",
    "            word = word.replace(ch, '')\n",
    "    return word"
   ]
  },
  {
   "cell_type": "code",
   "execution_count": 30,
   "id": "629c4530",
   "metadata": {},
   "outputs": [],
   "source": [
    "dataset = ''"
   ]
  },
  {
   "cell_type": "code",
   "execution_count": 33,
   "id": "d5f85b7a",
   "metadata": {},
   "outputs": [
    {
     "name": "stdout",
     "output_type": "stream",
     "text": [
      "before filtering there are 14594 lines\n",
      "after filtering there are 12153 lines\n"
     ]
    }
   ],
   "source": [
    "data = spark.sparkContext.textFile(\"file:///home/maxime/smallwordcount.txt\", use_unicode=\"False\")\n",
    "print(f\"before filtering there are {data.count()} lines\")\n",
    "lines = data.filter(lambda x : x != '') \\\n",
    "            .map(lambda x : removespecialchars(x)) \\\n",
    "            .map(lambda x : x.split(\" \"))\n",
    "print(f\"after filtering there are {lines.count()} lines\")"
   ]
  },
  {
   "cell_type": "markdown",
   "id": "796d8614",
   "metadata": {},
   "source": [
    "Retrieve the list of words"
   ]
  },
  {
   "cell_type": "code",
   "execution_count": 41,
   "id": "39992293",
   "metadata": {},
   "outputs": [
    {
     "data": {
      "text/plain": [
       "['The',\n",
       " 'Project',\n",
       " 'Gutenberg',\n",
       " 'EBook',\n",
       " 'of',\n",
       " 'Pride',\n",
       " 'and',\n",
       " 'Prejudice',\n",
       " 'by',\n",
       " 'Jane']"
      ]
     },
     "execution_count": 41,
     "metadata": {},
     "output_type": "execute_result"
    }
   ],
   "source": [
    "words = lines.flatMap(lambda x : x).filter(lambda w : len(w) > 0)\n",
    "words.take(10)"
   ]
  },
  {
   "cell_type": "markdown",
   "id": "e1907017",
   "metadata": {},
   "source": [
    "Compute the frequency of each word"
   ]
  },
  {
   "cell_type": "code",
   "execution_count": 42,
   "id": "7f652e57",
   "metadata": {},
   "outputs": [
    {
     "data": {
      "text/plain": [
       "[('The', 285),\n",
       " ('Project', 83),\n",
       " ('EBook', 3),\n",
       " ('of', 3693),\n",
       " ('Pride', 6),\n",
       " ('Jane', 263),\n",
       " ('Austen', 4),\n",
       " ('is', 859),\n",
       " ('use', 23),\n",
       " ('anyone', 29)]"
      ]
     },
     "execution_count": 42,
     "metadata": {},
     "output_type": "execute_result"
    }
   ],
   "source": [
    "wordcount = words.map(lambda x : (x, 1)).reduceByKey(lambda a, b : a+b)\n",
    "wordcount.take(10)"
   ]
  },
  {
   "cell_type": "markdown",
   "id": "4c201566",
   "metadata": {},
   "source": [
    "Count the number of distinct words"
   ]
  },
  {
   "cell_type": "code",
   "execution_count": 43,
   "id": "39126a76",
   "metadata": {},
   "outputs": [
    {
     "data": {
      "text/plain": [
       "7761"
      ]
     },
     "execution_count": 43,
     "metadata": {},
     "output_type": "execute_result"
    }
   ],
   "source": [
    "nb_distinct_word = words.distinct().count()\n",
    "nb_distinct_word"
   ]
  },
  {
   "cell_type": "markdown",
   "id": "98ae7c03",
   "metadata": {},
   "source": [
    "Compute the proba of each word"
   ]
  },
  {
   "cell_type": "code",
   "execution_count": 44,
   "id": "4c0f5148",
   "metadata": {},
   "outputs": [
    {
     "data": {
      "text/plain": [
       "[('The', 0.03672207189795129),\n",
       " ('Project', 0.010694498131684061),\n",
       " ('EBook', 0.00038654812524159255),\n",
       " ('of', 0.47584074217240047),\n",
       " ('Pride', 0.0007730962504831851),\n",
       " ('Jane', 0.033887385646179616),\n",
       " ('Austen', 0.0005153975003221235),\n",
       " ('is', 0.110681613194176),\n",
       " ('use', 0.0029635356268522097),\n",
       " ('anyone', 0.003736631877335395)]"
      ]
     },
     "execution_count": 44,
     "metadata": {},
     "output_type": "execute_result"
    }
   ],
   "source": [
    "word_proba = wordcount.map(lambda x : (x[0], x[1]/nb_distinct_word))\n",
    "word_proba.take(10)"
   ]
  },
  {
   "cell_type": "markdown",
   "id": "e0ca7062",
   "metadata": {},
   "source": [
    "Collocation of words : build an RDD of bigrams. A bigram is a pair of word appearing in consecutive order"
   ]
  },
  {
   "cell_type": "code",
   "execution_count": 55,
   "id": "96c651ea",
   "metadata": {},
   "outputs": [
    {
     "data": {
      "text/plain": [
       "[(0, 'The'),\n",
       " (1, 'Project'),\n",
       " (2, 'Gutenberg'),\n",
       " (3, 'EBook'),\n",
       " (4, 'of'),\n",
       " (5, 'Pride'),\n",
       " (6, 'and'),\n",
       " (7, 'Prejudice'),\n",
       " (8, 'by'),\n",
       " (9, 'Jane')]"
      ]
     },
     "execution_count": 55,
     "metadata": {},
     "output_type": "execute_result"
    }
   ],
   "source": [
    "word_index = words.zipWithIndex().map(lambda x : (x[1], x[0]))\n",
    "word_index.take(10)"
   ]
  },
  {
   "cell_type": "code",
   "execution_count": 56,
   "id": "a93aa558",
   "metadata": {},
   "outputs": [
    {
     "data": {
      "text/plain": [
       "[(-1, 'The'),\n",
       " (0, 'Project'),\n",
       " (1, 'Gutenberg'),\n",
       " (2, 'EBook'),\n",
       " (3, 'of'),\n",
       " (4, 'Pride'),\n",
       " (5, 'and'),\n",
       " (6, 'Prejudice'),\n",
       " (7, 'by'),\n",
       " (8, 'Jane')]"
      ]
     },
     "execution_count": 56,
     "metadata": {},
     "output_type": "execute_result"
    }
   ],
   "source": [
    "word_index_bis = words.zipWithIndex().map(lambda x : (x[1]-1, x[0]))\n",
    "word_index_bis.take(10)"
   ]
  },
  {
   "cell_type": "code",
   "execution_count": 58,
   "id": "7d6c3381",
   "metadata": {},
   "outputs": [
    {
     "name": "stderr",
     "output_type": "stream",
     "text": [
      "\r",
      "[Stage 218:============================>                            (2 + 2) / 4]\r",
      "\r",
      "                                                                                \r"
     ]
    },
    {
     "data": {
      "text/plain": [
       "[('The', 'Project'),\n",
       " ('of', 'Pride'),\n",
       " ('by', 'Jane'),\n",
       " ('eBook', 'is'),\n",
       " ('use', 'of'),\n",
       " ('at', 'no'),\n",
       " ('with', 'almost'),\n",
       " ('whatsoever', 'You'),\n",
       " ('it', 'give'),\n",
       " ('or', 're-use')]"
      ]
     },
     "execution_count": 58,
     "metadata": {},
     "output_type": "execute_result"
    }
   ],
   "source": [
    "bigram = word_index.join(word_index_bis).map(lambda x : x[1])\n",
    "bigram.take(10)"
   ]
  },
  {
   "cell_type": "markdown",
   "id": "4bf8b3de",
   "metadata": {},
   "source": [
    "Count the frequency of each bigram"
   ]
  },
  {
   "cell_type": "code",
   "execution_count": 74,
   "id": "d78b666c",
   "metadata": {
    "scrolled": true
   },
   "outputs": [
    {
     "name": "stderr",
     "output_type": "stream",
     "text": [
      "\r",
      "[Stage 285:============================>                            (2 + 2) / 4]\r",
      "\r",
      "                                                                                \r"
     ]
    },
    {
     "data": {
      "text/plain": [
       "[(('use', 'of'), 8),\n",
       " (('at', 'no'), 6),\n",
       " (('the', 'terms'), 14),\n",
       " (('12', '2019'), 1),\n",
       " (('PREJUDICE', 'Produced'), 1),\n",
       " (('Volunteers', 'and'), 3),\n",
       " (('and', 'Prejudice'), 4),\n",
       " (('Chapter', '4'), 2),\n",
       " (('Chapter', '10'), 2),\n",
       " (('Chapter', '12'), 2)]"
      ]
     },
     "execution_count": 74,
     "metadata": {},
     "output_type": "execute_result"
    }
   ],
   "source": [
    "bigramcount = bigram.map(lambda x : (x, 1)).reduceByKey(lambda a, b : a+b)\n",
    "bigramcount.take(10)"
   ]
  },
  {
   "cell_type": "markdown",
   "id": "0824c0cd",
   "metadata": {},
   "source": [
    "Attach to each bigram the probability of its words, i.e $$P(a)*P(b)$$"
   ]
  },
  {
   "cell_type": "code",
   "execution_count": 76,
   "id": "c8627ec2",
   "metadata": {},
   "outputs": [
    {
     "data": {
      "text/plain": [
       "[(('of', 'Pride'), 0.0003678706936006188),\n",
       " (('Title', 'Pride'), 9.961296875185996e-08),\n",
       " (('vain', 'Pride'), 1.7930334375334792e-06),\n",
       " (('mine', 'Pride'), 1.4941945312778994e-06),\n",
       " (('cover', 'Pride'), 1.9922593750371993e-07),\n",
       " (('of', 'them'), 0.026609313503778098),\n",
       " (('like', 'them'), 0.0005476056935518915),\n",
       " (('seen', 'them'), 0.0005404003554788403),\n",
       " (('before', 'them'), 0.0016139957283634696),\n",
       " (('make', 'them'), 0.0012104967962726025)]"
      ]
     },
     "execution_count": 76,
     "metadata": {},
     "output_type": "execute_result"
    }
   ],
   "source": [
    "bigramproba = bigramcount.map(lambda x : x[0]).join(word_proba).map(lambda x : (x[1][0], (x[0], x[1][1]))) \\\n",
    "                         .join(word_proba).map(lambda x : ((x[1][0][0], x[0]), x[1][0][1]*x[1][1]))\n",
    "bigramproba.take(10)"
   ]
  },
  {
   "cell_type": "markdown",
   "id": "56a9acf6",
   "metadata": {},
   "source": [
    "Count the number of distinct bigrams"
   ]
  },
  {
   "cell_type": "code",
   "execution_count": 72,
   "id": "6fb30584",
   "metadata": {},
   "outputs": [
    {
     "data": {
      "text/plain": [
       "59099"
      ]
     },
     "execution_count": 72,
     "metadata": {},
     "output_type": "execute_result"
    }
   ],
   "source": [
    "bigram_distinct = bigram.distinct().count()\n",
    "bigram_distinct"
   ]
  },
  {
   "cell_type": "markdown",
   "id": "42fdb946",
   "metadata": {},
   "source": [
    "Attach to each bigram its probability, i.e. $$P(ab)$$"
   ]
  },
  {
   "cell_type": "code",
   "execution_count": 75,
   "id": "15a3fdf2",
   "metadata": {},
   "outputs": [
    {
     "data": {
      "text/plain": [
       "[(('use', 'of'), 0.00013536608064434254),\n",
       " (('at', 'no'), 0.0001015245604832569),\n",
       " (('the', 'terms'), 0.00023689064112759946),\n",
       " (('12', '2019'), 1.6920760080542818e-05),\n",
       " (('PREJUDICE', 'Produced'), 1.6920760080542818e-05),\n",
       " (('Volunteers', 'and'), 5.076228024162845e-05),\n",
       " (('and', 'Prejudice'), 6.768304032217127e-05),\n",
       " (('Chapter', '4'), 3.3841520161085635e-05),\n",
       " (('Chapter', '10'), 3.3841520161085635e-05),\n",
       " (('Chapter', '12'), 3.3841520161085635e-05)]"
      ]
     },
     "execution_count": 75,
     "metadata": {},
     "output_type": "execute_result"
    }
   ],
   "source": [
    "bigramjointproba = bigramcount.map(lambda x : (x[0], x[1]/bigram_distinct))\n",
    "bigramjointproba.take(10)"
   ]
  },
  {
   "cell_type": "markdown",
   "id": "e0752309",
   "metadata": {},
   "source": [
    "Compute the SPMI $$SPMI(a,b) = P(ab)/P(a)*P(b)$$ and sort in descending order on the score"
   ]
  },
  {
   "cell_type": "code",
   "execution_count": 79,
   "id": "f98b905e",
   "metadata": {},
   "outputs": [
    {
     "name": "stderr",
     "output_type": "stream",
     "text": [
      "                                                                                \r"
     ]
    },
    {
     "data": {
      "text/plain": [
       "[(('staff', 'Please'), 1019.1901893433051),\n",
       " (('he—poor', 'Eliza—to'), 1019.1901893433051),\n",
       " (('net', 'purses'), 1019.1901893433051),\n",
       " (('Italian', 'songs'), 1019.1901893433051),\n",
       " (('barbarously', 'misused'), 1019.1901893433051),\n",
       " (('weighty', 'accusation'), 1019.1901893433051),\n",
       " (('vicious', 'propensities—the'), 1019.1901893433051),\n",
       " (('untamed', 'unabashed'), 1019.1901893433051),\n",
       " (('City', 'UT'), 1019.1901893433051),\n",
       " (('Kenilworth', 'Birmingham'), 1019.1901893433051)]"
      ]
     },
     "execution_count": 79,
     "metadata": {},
     "output_type": "execute_result"
    }
   ],
   "source": [
    "SPMI = bigramjointproba.join(bigramproba).map(lambda x : (x[0], x[1][0]/x[1][1])).sortBy(lambda x : x[1], False)\n",
    "SPMI.take(10)"
   ]
  },
  {
   "cell_type": "markdown",
   "id": "0a50d823",
   "metadata": {},
   "source": [
    "### Matrix multiplication\n",
    "\n",
    "Write a program to perform matric multiplication using the spark RDD operators. The input matrices are represented with their coordinates : each matrix is an RDD of tuples `(i,j,val)` where `i` is the line number, `j` is the column number and `val` the value. The input matrices are provided (`matM` and `matN`). THe output matrix is also represented with its coordinates :"
   ]
  },
  {
   "cell_type": "code",
   "execution_count": 81,
   "id": "d329e806",
   "metadata": {},
   "outputs": [],
   "source": [
    "M = [(1,1,1),(1,2,2),(1,3,3),(2,1,2),(2,2,5),(2,3,7)]\n",
    "N = [(1,1,2),(1,2,4),(1,3,8),(2,1,1),(2,2,5),(2,3,10),(3,1,3),(3,2,6),(3,3,9)]\n",
    "\n",
    "matM = spark.sparkContext.parallelize(M)\n",
    "matN = spark.sparkContext.parallelize(N)"
   ]
  },
  {
   "cell_type": "code",
   "execution_count": 83,
   "id": "42f261c7",
   "metadata": {},
   "outputs": [
    {
     "name": "stderr",
     "output_type": "stream",
     "text": [
      "                                                                                \r"
     ]
    },
    {
     "data": {
      "text/plain": [
       "[((1, 1), 13),\n",
       " ((2, 3), 129),\n",
       " ((1, 2), 32),\n",
       " ((2, 2), 75),\n",
       " ((1, 3), 55),\n",
       " ((2, 1), 30)]"
      ]
     },
     "execution_count": 83,
     "metadata": {},
     "output_type": "execute_result"
    }
   ],
   "source": [
    "matMElem = matM.map(lambda x : (x[1], (x[0], x[2])))\n",
    "matNElem = matN.map(lambda x : (x[0], (x[1], x[2])))\n",
    "pairwiseProd = matMElem.join(matNElem)\n",
    "product = pairwiseProd.map(lambda x : ((x[1][0][0], x[1][1][0]), x[1][0][1]*x[1][1][1])) \\\n",
    "                      .reduceByKey(lambda a, b: a+b)\n",
    "product.collect()"
   ]
  }
 ],
 "metadata": {
  "kernelspec": {
   "display_name": "Python 3 (ipykernel)",
   "language": "python",
   "name": "python3"
  },
  "language_info": {
   "codemirror_mode": {
    "name": "ipython",
    "version": 3
   },
   "file_extension": ".py",
   "mimetype": "text/x-python",
   "name": "python",
   "nbconvert_exporter": "python",
   "pygments_lexer": "ipython3",
   "version": "3.10.6"
  }
 },
 "nbformat": 4,
 "nbformat_minor": 5
}
